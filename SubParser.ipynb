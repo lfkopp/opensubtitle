{
 "cells": [
  {
   "cell_type": "code",
   "execution_count": 20,
   "metadata": {
    "collapsed": true
   },
   "outputs": [],
   "source": [
    "from collections import namedtuple\n",
    "from itertools import groupby\n",
    "\n",
    "def parse_subtitle(filename):\n",
    "    # \"chunk\" our input file, delimited by blank lines\n",
    "    with open(filename) as f:\n",
    "        res = [list(g) for b,g in groupby(f, lambda x: bool(x.strip())) if b]\n",
    "\n",
    "    Subtitle = namedtuple('Subtitle', 'number start end content')\n",
    "\n",
    "    subs = []\n",
    "\n",
    "    for sub in res:\n",
    "        if len(sub) >= 3: # not strictly necessary, but better safe than sorry\n",
    "            sub = [x.strip() for x in sub]\n",
    "            number, start_end, *content = sub # py3 syntax\n",
    "            start, end = start_end.split(' --> ')\n",
    "            subs.append(Subtitle(number, start, end, content))\n",
    "    \n",
    "    return subs\n",
    "\n",
    "subs = parse_subtitle(\"/home/burak/Documents/Courses-2016f/CS464/Project/tension-measuring/castaway.srt\")"
   ]
  },
  {
   "cell_type": "code",
   "execution_count": 26,
   "metadata": {},
   "outputs": [
    {
     "ename": "IndexError",
     "evalue": "list index out of range",
     "output_type": "error",
     "traceback": [
      "\u001b[1;31m---------------------------------------------------------------------------\u001b[0m",
      "\u001b[1;31mIndexError\u001b[0m                                Traceback (most recent call last)",
      "\u001b[1;32m<ipython-input-26-eef5bb958bc6>\u001b[0m in \u001b[0;36m<module>\u001b[1;34m()\u001b[0m\n\u001b[0;32m     37\u001b[0m         \u001b[1;32mreturn\u001b[0m \u001b[0mcounts\u001b[0m\u001b[1;33m\u001b[0m\u001b[0m\n\u001b[0;32m     38\u001b[0m \u001b[1;33m\u001b[0m\u001b[0m\n\u001b[1;32m---> 39\u001b[1;33m \u001b[0mcount_intervals\u001b[0m\u001b[1;33m(\u001b[0m\u001b[0msubs\u001b[0m\u001b[1;33m,\u001b[0m \u001b[1;36m10\u001b[0m\u001b[1;33m)\u001b[0m\u001b[1;33m\u001b[0m\u001b[0m\n\u001b[0m",
      "\u001b[1;32m<ipython-input-26-eef5bb958bc6>\u001b[0m in \u001b[0;36mcount_intervals\u001b[1;34m(subs, minute_interval)\u001b[0m\n\u001b[0;32m     33\u001b[0m                 \u001b[0mmins\u001b[0m \u001b[1;33m+=\u001b[0m \u001b[0mminute_interval\u001b[0m\u001b[1;33m\u001b[0m\u001b[0m\n\u001b[0;32m     34\u001b[0m                 \u001b[0mindex\u001b[0m \u001b[1;33m+=\u001b[0m \u001b[1;36m1\u001b[0m\u001b[1;33m\u001b[0m\u001b[0m\n\u001b[1;32m---> 35\u001b[1;33m                 \u001b[0mcounts\u001b[0m\u001b[1;33m[\u001b[0m\u001b[0mindex\u001b[0m\u001b[1;33m]\u001b[0m \u001b[1;33m+=\u001b[0m \u001b[1;36m1\u001b[0m\u001b[1;33m\u001b[0m\u001b[0m\n\u001b[0m\u001b[0;32m     36\u001b[0m \u001b[1;33m\u001b[0m\u001b[0m\n\u001b[0;32m     37\u001b[0m         \u001b[1;32mreturn\u001b[0m \u001b[0mcounts\u001b[0m\u001b[1;33m\u001b[0m\u001b[0m\n",
      "\u001b[1;31mIndexError\u001b[0m: list index out of range"
     ]
    }
   ],
   "source": [
    "import datetime as dt\n",
    "from datetime import timedelta \n",
    "\n",
    "def str_to_timedelta(str_tm=\"02:14:53,085\"):\n",
    "    hours, mins, secs = str_tm.split(':')\n",
    "    millis = secs[3:]\n",
    "    secs = secs[:2]\n",
    "    return timedelta(hours=int(hours), minutes=int(mins), seconds=int(secs), milliseconds=int(millis))\n",
    "\n",
    "def count_intervals(subs, minute_interval):\n",
    "        end_of_movie = subs[-1].end\n",
    "        curr_time = timedelta() #this is our t_0\n",
    "        \n",
    "        movie_length_mins = int(str_to_timedelta(end_of_movie).total_seconds() / 60 ) + 1\n",
    "        # counts = [ [] for i in range(movie_length_mins)]\n",
    "        counts = [0] * (int(movie_length_mins / minute_interval) + 1)\n",
    "#         for index, sub in enumerate(subs):\n",
    "#             if (str_to_timedelta(sub.start) - curr_time).seconds <= 60:\n",
    "#                 counts[index]\n",
    "\n",
    "        mins = minute_interval\n",
    "        hours = 0\n",
    "        index = 0\n",
    "        for sub in subs:\n",
    "            if int(sub.start[3:5]) <= mins and \\\n",
    "                int(sub.start[:2]) == hours:\n",
    "                counts[index] += 1\n",
    "            elif int(sub.start[:2]) == hours + 1: \n",
    "                hours += 1\n",
    "                mins = 0\n",
    "                index += 1\n",
    "                counts[index] += 1\n",
    "            elif int(sub.start[3:5]) > mins:\n",
    "                mins += minute_interval\n",
    "                index += 1\n",
    "                counts[index] += 1\n",
    "\n",
    "        return counts\n",
    "    \n",
    "count_intervals(subs, 10)"
   ]
  },
  {
   "cell_type": "code",
   "execution_count": 14,
   "metadata": {},
   "outputs": [
    {
     "name": "stdout",
     "output_type": "stream",
     "text": [
      "2:14:53.085000\n"
     ]
    }
   ],
   "source": [
    "import datetime as dt\n",
    "from datetime import timedelta \n",
    "\n",
    "# start_time = dt.time(0, 0, 0, 0)\n",
    "str_tm = \"02:14:53,085\"\n",
    "# # millis = int(str_tm[str_tm.find(',')+1:])\n",
    "# # str_tm = str_tm[:str_tm.find(',')]\n",
    "# tm = dt.datetime.strptime(str_tm, \"%H:%M:%S,%f\").time()\n",
    "hours, mins, secs = str_tm.split(':')\n",
    "millis = secs[3:]\n",
    "secs = secs[:2]\n",
    "print(timedelta(hours=int(hours), minutes=int(mins), seconds=int(secs), milliseconds=int(millis)))\n",
    "# print(tm)\n",
    "# tm + timedelta(seconds=3)"
   ]
  },
  {
   "cell_type": "code",
   "execution_count": 3,
   "metadata": {
    "collapsed": true
   },
   "outputs": [],
   "source": [
    "start='00:03:00,613'"
   ]
  }
 ],
 "metadata": {
  "kernelspec": {
   "display_name": "Python 3",
   "language": "python",
   "name": "python3"
  },
  "language_info": {
   "codemirror_mode": {
    "name": "ipython",
    "version": 3
   },
   "file_extension": ".py",
   "mimetype": "text/x-python",
   "name": "python",
   "nbconvert_exporter": "python",
   "pygments_lexer": "ipython3",
   "version": "3.6.7"
  }
 },
 "nbformat": 4,
 "nbformat_minor": 1
}
